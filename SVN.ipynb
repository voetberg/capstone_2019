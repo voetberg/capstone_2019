{
 "cells": [
  {
   "cell_type": "code",
   "execution_count": 5,
   "metadata": {},
   "outputs": [],
   "source": [
    "import numpy as np \n",
    "import pandas as pd \n",
    "import matplotlib.pyplot as plt \n",
    "%matplotlib inline "
   ]
  },
  {
   "cell_type": "code",
   "execution_count": 7,
   "metadata": {},
   "outputs": [],
   "source": [
    "def read_in(feat,label): \n",
    "    ##Simple read function\n",
    "    df_x = pd.read_csv(feat)\n",
    "    x = df_x.values\n",
    "    \n",
    "    df_y = pd.read_csv(label)\n",
    "    y = df_y.values\n",
    "    return x,y\n",
    "\n",
    "def plot_raw_digit(feat): \n",
    "    '''Takes a feature vector and plots it as an 8x8 pixel image\n",
    "    Requires that the vector ranges from 0 to 16'''\n",
    "    plt.gray()\n",
    "    plt.matshow(feat.reshape(8,8))\n",
    "    plt.show()\n",
    "    \n",
    "def get_mean_variance(X):\n",
    "    mean = np.mean(X, axis=0) # axis=0: taking means along the\n",
    "    # vertical line (column)\n",
    "    # (sum(x_i-\\mu)^2)/N\n",
    "    X_temp = X - mean #\n",
    "    X_temp_entrypointwise = X_temp*X_temp\n",
    "    variance = np.mean(X_temp_entrypointwise, axis=0) #axis=0: \n",
    "    # taking means along the vertical line (column)\n",
    "    return mean, variance\n",
    "    \n",
    "def normalize_features(X_train, X_test):\n",
    "    mean, variance = get_mean_variance(X_train)\n",
    "    variance += 1e-15\n",
    "    ''' transform the feature '''\n",
    "    X_train_norm = (X_train - mean)/np.sqrt(variance)\n",
    "    #math.sqrt doesnot work for numpy\n",
    "    X_test_norm = (X_test - mean)/np.sqrt(variance)\n",
    "    return X_train_norm, X_test_norm\n",
    "\n",
    "def add_column_one(X):\n",
    "    '''\n",
    "         convert X -> [1 X]\n",
    "    '''\n",
    "    # add  column of ones\n",
    "    ones = np.ones(X.shape[0])\n",
    "    ones = ones.reshape(-1, 1)\n",
    "    X_new = np.append(ones, X, axis=1)\n",
    "\n",
    "    return X_new    "
   ]
  },
  {
   "cell_type": "code",
   "execution_count": 9,
   "metadata": {},
   "outputs": [
    {
     "data": {
      "text/plain": [
       "<Figure size 432x288 with 0 Axes>"
      ]
     },
     "metadata": {},
     "output_type": "display_data"
    },
    {
     "data": {
      "image/png": "[encoded data removed]",
      "text/plain": [
       "<Figure size 288x288 with 1 Axes>"
      ]
     },
     "metadata": {
      "needs_background": "light"
     },
     "output_type": "display_data"
    }
   ],
   "source": [
    "pwd = '/Users/offic/repositories/ml_capstone/gradient_d/data/'\n",
    "x_train, y_train = read_in(pwd+'Digits_X_train.csv', pwd+'Digits_y_train.csv')\n",
    "x_test, y_test = read_in(pwd+'Digits_X_test.csv', pwd+'Digits_y_test.csv')\n",
    "\n",
    "x_train_norm, x_test_norm = normalize_features(x_train,x_test)\n",
    "x_train_norm_bias, x_test_norm_bias = add_column_one(x_train_norm),add_column_one(x_test_norm)\n",
    "\n",
    "plot_raw_digit(x_train[0]) ##Yep we got the numbers "
   ]
  },
  {
   "cell_type": "code",
   "execution_count": null,
   "metadata": {},
   "outputs": [],
   "source": [
    "def predictor(c,x): \n",
    "    '''Just a linear combo between coeffients and features'''\n",
    "    return X.dot(c)\n",
    "\n",
    "def loss(y_true,y_pred,c, lamb):\n",
    "    '''Function to be minimzied\n",
    "    L = norm(c) + K*sum(max(0, 1-y*cT*x))\n",
    "    '''\n",
    "    sqC = np.sum(c*c) - c[0]*c[0] ##Remove the bias term in the loss\n",
    "    hinge = 1-y_true*y_pred\n",
    "    hinge[hinge<0] = 0 ##eq to a if statement \n",
    "    return sqC + lamb*np.sum(hinge)\n",
    "\n",
    "## THEN GRADIENT DECENT. Just need to add a lambda parameter \n",
    "\n",
    "def gradient_desc(x,y,l_rate=.01,ite=100, lamb): \n",
    "    '''Input: \n",
    "    X-> Features (NxM), normalized w bias\n",
    "    y->Labels (Nx1)\n",
    "    learning rate (<<.01)\n",
    "    Iterations->Number of times to run \n",
    "    \n",
    "    Output: \n",
    "    c_n->Optimal coeffs\n",
    "    loss->loss value based off \n",
    "    '''\n",
    "    n_feat = X.shape[1] ##N value \n",
    "    c_n = np.zeros((n_feat,1)) ##initialize an empty matrix \n",
    "    loss_range = [0]*ite ##Empty matrix to document how loss changes with iteration\n",
    "    for i in range(ite): \n",
    "        ##Calculate the gradient over a range\n",
    "        ##Gradient of the loss function, this is the simplified version \n",
    "        ## dL/dc = X^t*(y_pred-y_true)\n",
    "        y_pred = predictor(c_n,x)\n",
    "        loss_range[i] = loss(y_pred, y,c,lamb).ravel[0] \n",
    "        \n",
    "        grad = np.zeros((n_feat,1))\n",
    "        grad[1:]+=2*c_n[1:]\n",
    "        hinge = 1 - y*y_pred\n",
    "        for i in range(hinge.size):\n",
    "            if(hinge[i]>0):\n",
    "                gradient+= (-y[i]*x[i,:].T).reshape\n",
    "        \n",
    "    return c_n, loss_range"
   ]
  }
 ],
 "metadata": {
  "kernelspec": {
   "display_name": "Python 3",
   "language": "python",
   "name": "python3"
  },
  "language_info": {
   "codemirror_mode": {
    "name": "ipython",
    "version": 3
   },
   "file_extension": ".py",
   "mimetype": "text/x-python",
   "name": "python",
   "nbconvert_exporter": "python",
   "pygments_lexer": "ipython3",
   "version": "3.7.1"
  }
 },
 "nbformat": 4,
 "nbformat_minor": 2
}

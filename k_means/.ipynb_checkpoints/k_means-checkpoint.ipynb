{
 "cells": [
  {
   "cell_type": "code",
   "execution_count": 2,
   "metadata": {},
   "outputs": [],
   "source": [
    "import numpy as np \n",
    "import pandas as pd \n",
    "import matplotlib.pyplot as plt \n",
    "%matplotlib inline "
   ]
  },
  {
   "cell_type": "code",
   "execution_count": 1,
   "metadata": {},
   "outputs": [],
   "source": [
    "def read_in(feat,label): \n",
    "    ##Simple read function\n",
    "    df_x = pd.read_csv(feat)\n",
    "    x = df_x.values\n",
    "    \n",
    "    df_y = pd.read_csv(label)\n",
    "    y = df_y.values\n",
    "    return x,y\n",
    "\n",
    "def mean_var(x): \n",
    "    '''Returns mean and variance of a set x'''\n",
    "    ##Calculate avg, use axis=0 to take it along the values, not the features\n",
    "    mu = np.mean(x,axis=0)\n",
    "    std = np.mean((x - mu)*(x - mu), axis=0)\n",
    "    return mu,std\n",
    "\n",
    "def normalize(train,test): \n",
    "    '''Function calling both testing and training sets, \n",
    "    must be normalized by the mean and variance\n",
    "    Normalize such that X = (X - mean)/sqrt(Var)'''\n",
    "    ##Call the mean_var function\n",
    "    mu,std = mean_var(train)\n",
    "    ##Normalize\n",
    "    train_norm = (train - mu)/(np.sqrt(std) +1e-15) ## 1e-15 added to avoid divide by 0 error\n",
    "    test_norm = (test - mu)/(np.sqrt(std) +1e-15)\n",
    "    return train_norm,test_norm"
   ]
  },
  {
   "cell_type": "code",
   "execution_count": 4,
   "metadata": {},
   "outputs": [],
   "source": [
    "pwd = '/Users/offic/repositories/ml_capstone/gradient_d/data'\n",
    "x_train, y_train = read_in(pwd+'/Digits_X_train.csv',pwd+\"/Digits_y_train.csv\")\n",
    "x_test, y_test = read_in(pwd+'/Digits_X_test.csv',pwd+\"/Digits_y_test.csv\")\n",
    "n_sample,n_feat = x_train.shape\n",
    "\n",
    "x_train_norm,x_test_norm = normalize(x_train,x_test)\n",
    "## Note that we don't add bias\n",
    "## We don't even have a predictor, there's no point in it "
   ]
  },
  {
   "cell_type": "code",
   "execution_count": null,
   "metadata": {},
   "outputs": [],
   "source": [
    "## Calculate distance between a point and everything else \n",
    "## Use Eucledian Distance 1st \n",
    "def dist_eud(x,p): \n",
    "    '''x->full set to calucate distance to \n",
    "    p->point to calculate distance from \n",
    "    Uses eucludian distance to calculate distance between the set and a new point\n",
    "    For-Loop not used because np will less compulationally expensive'''\n",
    "    diff = (x-p)**2 ##This shouldn't work in lin alg, but it's fine in numpy\n",
    "    ##It's equvilent to subtracting the row for each n, then squaring each term\n",
    "    return np.sqrt(np.sum(diff, axis = 1)) ## Pytorch sqrt also aviable, uses gpu and is Much faster\n",
    "    "
   ]
  }
 ],
 "metadata": {
  "kernelspec": {
   "display_name": "Python 3",
   "language": "python",
   "name": "python3"
  },
  "language_info": {
   "codemirror_mode": {
    "name": "ipython",
    "version": 3
   },
   "file_extension": ".py",
   "mimetype": "text/x-python",
   "name": "python",
   "nbconvert_exporter": "python",
   "pygments_lexer": "ipython3",
   "version": "3.7.1"
  }
 },
 "nbformat": 4,
 "nbformat_minor": 2
}

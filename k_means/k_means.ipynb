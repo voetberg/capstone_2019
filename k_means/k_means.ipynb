{
 "cells": [
  {
   "cell_type": "code",
   "execution_count": 21,
   "metadata": {},
   "outputs": [],
   "source": [
    "import numpy as np \n",
    "import pandas as pd \n",
    "import matplotlib.pyplot as plt \n",
    "%matplotlib inline \n",
    "\n",
    "from collections import Counter"
   ]
  },
  {
   "cell_type": "code",
   "execution_count": 2,
   "metadata": {},
   "outputs": [],
   "source": [
    "def read_in(feat,label): \n",
    "    ##Simple read function\n",
    "    df_x = pd.read_csv(feat)\n",
    "    x = df_x.values\n",
    "    \n",
    "    df_y = pd.read_csv(label)\n",
    "    y = df_y.values\n",
    "    return x,y\n",
    "\n",
    "def mean_var(x): \n",
    "    '''Returns mean and variance of a set x'''\n",
    "    ##Calculate avg, use axis=0 to take it along the values, not the features\n",
    "    mu = np.mean(x,axis=0)\n",
    "    std = np.mean((x - mu)*(x - mu), axis=0)\n",
    "    return mu,std\n",
    "\n",
    "def normalize(train,test): \n",
    "    '''Function calling both testing and training sets, \n",
    "    must be normalized by the mean and variance\n",
    "    Normalize such that X = (X - mean)/sqrt(Var)'''\n",
    "    ##Call the mean_var function\n",
    "    mu,std = mean_var(train)\n",
    "    ##Normalize\n",
    "    train_norm = (train - mu)/(np.sqrt(std) +1e-15) ## 1e-15 added to avoid divide by 0 error\n",
    "    test_norm = (test - mu)/(np.sqrt(std) +1e-15)\n",
    "    return train_norm,test_norm"
   ]
  },
  {
   "cell_type": "code",
   "execution_count": 3,
   "metadata": {},
   "outputs": [],
   "source": [
    "pwd = '/Users/offic/repositories/ml_capstone/gradient_d/data'\n",
    "\n",
    "##Using the full 10 digit sets \n",
    "##I need to put my data somewhere else these paths are getting annoying\n",
    "x_train, y_train = read_in(pwd+'/Digits_X_train.csv',pwd+\"/Digits_y_train.csv\")\n",
    "x_test, y_test = read_in(pwd+'/Digits_X_test.csv',pwd+\"/Digits_y_test.csv\")\n",
    "n_sample,n_feat = x_train.shape\n",
    "\n",
    "x_train_norm,x_test_norm = normalize(x_train,x_test)\n",
    "## Note that we don't add bias\n",
    "## We don't even have a predictor, there's no point in it "
   ]
  },
  {
   "cell_type": "code",
   "execution_count": 24,
   "metadata": {},
   "outputs": [],
   "source": [
    "## Calculate distance between a point and everything else \n",
    "## Use Eucledian Distance 1st \n",
    "def KNN(x,p,k): \n",
    "    '''x->full set to calucate distance to \n",
    "    p->point to calculate distance from \n",
    "    k->number of nearest neighbors \n",
    "    \n",
    "    K ponts with the shortest distance between them and the point p\n",
    "    \n",
    "    Uses eucludian distance to calculate distance between the set and a new point\n",
    "    Returns the K \n",
    "    For-Loop not used because np will less compulationally expensive'''\n",
    "    diff = (x-p)**2 ##This shouldn't work in lin alg, but it's fine in numpy\n",
    "    ##It's equvilent to subtracting the row for each n, then squaring each term\n",
    "    dist = np.sqrt(np.sum(diff, axis = 1)) ## Pytorch sqrt also aviable, uses gpu and is Much faster\n",
    "     \n",
    "    ##Pick out the k nearest points \n",
    "    return np.argpartition(dist,k)[:k]\n",
    "\n",
    "    ##Alternatively use np.argsort\n",
    "    #k_array = np.argsort(dist)[0:k]\n",
    "\n",
    "def pre_labels(x,y,p,k): \n",
    "    '''x: points, y:labels\n",
    "    p: point to predict\n",
    "    k: # of nearest neighbors you're predicting off \n",
    "    \n",
    "    Returns label of point\n",
    "    '''\n",
    "    ##Get knn for a point \n",
    "    k_nn = KNN(x,p,k)\n",
    "    ##Get labels for the k_nn \n",
    "    labels_k_nn = y[k_nn].ravel() ##array flattned with ravel\n",
    "    \n",
    "    ##Returning most common label\n",
    "    ##Use Counter function from collections \n",
    "    ##Documentation here: https://docs.python.org/2/library/collections.html#collections.Counter\n",
    "    return Counter(labels_k_nn).most_common(1)[0][0]\n",
    "    "
   ]
  },
  {
   "cell_type": "code",
   "execution_count": 25,
   "metadata": {},
   "outputs": [
    {
     "name": "stdout",
     "output_type": "stream",
     "text": [
      "0\n"
     ]
    }
   ],
   "source": [
    "x,p = x_train_norm,x_test_norm[2]\n",
    "y = y_train\n",
    "k = 3\n",
    "\n",
    "print(pre_labels(x,y,p,k))"
   ]
  },
  {
   "cell_type": "code",
   "execution_count": 26,
   "metadata": {},
   "outputs": [
    {
     "data": {
      "text/plain": [
       "<Figure size 432x288 with 0 Axes>"
      ]
     },
     "metadata": {},
     "output_type": "display_data"
    },
    {
     "data": {
      "image/png": "[encoded data removed]",
      "text/plain": [
       "<Figure size 288x288 with 1 Axes>"
      ]
     },
     "metadata": {
      "needs_background": "light"
     },
     "output_type": "display_data"
    }
   ],
   "source": [
    "##Check this with your plotting function \n",
    "def plot_raw_digit(feat): \n",
    "    '''Takes a feature vector and plots it as an 8x8 pixel image\n",
    "    Requires that the vector ranges from 0 to 16'''\n",
    "    plt.gray()\n",
    "    plt.matshow(feat.reshape(8,8))\n",
    "    plt.show()\n",
    "    \n",
    "plot_raw_digit(p)"
   ]
  },
  {
   "cell_type": "code",
   "execution_count": 27,
   "metadata": {},
   "outputs": [],
   "source": [
    "## Now we need to be able to predict an entire array. This is just a loop tbh \n",
    "def pre_labels_array(x,y,test,k):\n",
    "    labels = []\n",
    "    for p in test: \n",
    "        pre_labels(x,y,p,k).append(labels)\n",
    "    return labels"
   ]
  },
  {
   "cell_type": "code",
   "execution_count": null,
   "metadata": {},
   "outputs": [],
   "source": []
  }
 ],
 "metadata": {
  "kernelspec": {
   "display_name": "Python 3",
   "language": "python",
   "name": "python3"
  },
  "language_info": {
   "codemirror_mode": {
    "name": "ipython",
    "version": 3
   },
   "file_extension": ".py",
   "mimetype": "text/x-python",
   "name": "python",
   "nbconvert_exporter": "python",
   "pygments_lexer": "ipython3",
   "version": "3.7.1"
  }
 },
 "nbformat": 4,
 "nbformat_minor": 2
}

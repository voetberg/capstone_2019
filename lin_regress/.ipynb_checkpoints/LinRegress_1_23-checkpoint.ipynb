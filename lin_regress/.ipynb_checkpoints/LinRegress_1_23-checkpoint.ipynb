{
 "cells": [
  {
   "cell_type": "code",
   "execution_count": 2,
   "metadata": {},
   "outputs": [],
   "source": [
    "import numpy as np\n",
    "import pandas as pd"
   ]
  },
  {
   "cell_type": "code",
   "execution_count": 3,
   "metadata": {},
   "outputs": [],
   "source": [
    "##import data\n",
    "##All info about these can be found in the txt file in the data folder\n",
    "data_feat_train = pd.read_csv(\"./data/airfoil_self_noise_X_train.csv\")\n",
    "data_feat_test = pd.read_csv(\"./data/airfoil_self_noise_X_test.csv\")\n",
    "data_label_train = pd.read_csv(\"./data/airfoil_self_noise_y_train.csv\")\n",
    "data_label_test = pd.read_csv(\"./data/airfoil_self_noise_y_test.csv\")"
   ]
  },
  {
   "cell_type": "code",
   "execution_count": 4,
   "metadata": {},
   "outputs": [],
   "source": [
    "##Processing the df and transforming it to something useable (returns np array)\n",
    "X_train, y_train = data_feat_train.values, data_label_train.values\n",
    "X_test, y_test = data_feat_test.values, data_label_test.values"
   ]
  },
  {
   "cell_type": "code",
   "execution_count": 23,
   "metadata": {},
   "outputs": [],
   "source": [
    "##Actual Model \n",
    "def result(X_test,c): \n",
    "    '''Returns the predicted value based off the set given and known coeffs\n",
    "    c is the coeffients of the linear regressor \n",
    "    X is the features, an array of size n\n",
    "    p(X) = <X,c>'''\n",
    "    return X_test.dot(c)\n",
    "\n",
    "def get_cn(X_train, y_train): \n",
    "    '''Defines coeff with the training set\n",
    "    X_train = set of feature vectors \n",
    "    y_train = set of label vectors \n",
    "     \n",
    "    c_n = (x^t*x)^-1 * x^t*y'''\n",
    "    \n",
    "    X_T = np.transpose(X_train)\n",
    "    X_TX_inv = np.linalg.inv(X_T.dot(X_train))\n",
    "    X_TY = X_T.dot(y_train)\n",
    "    \n",
    "    return X_TX_inv.dot(X_TY)\n",
    "\n",
    "def error(y_pred, y_true): \n",
    "    '''Mean root square error calculation for two full matrices\n",
    "    E = sqrt(Sigma((x_t-x_p)^2)/N_x)'''\n",
    "    error = 0\n",
    "    T = len(y_pred)\n",
    "    for i in range(T):\n",
    "        error += (y_pred[i]-y_true[i])**2\n",
    "    return np.sqrt(error/T)\n",
    "\n",
    "def add_vector(X):\n",
    "    '''adds column to current features'''\n",
    "    X_ones = np.ones(X.shape[0])\n",
    "    X_ones = X_ones.reshape(-1,1)\n",
    "    return np.append(X_ones,X,axis=1)"
   ]
  },
  {
   "cell_type": "code",
   "execution_count": 18,
   "metadata": {},
   "outputs": [
    {
     "name": "stdout",
     "output_type": "stream",
     "text": [
      "[30.99744284]\n"
     ]
    }
   ],
   "source": [
    "c = get_cn(X_train,y_train)\n",
    "y_predict = result(X_test,c)\n",
    "print(error(y_predict, y_test))\n",
    "##Prediction is pretty shit bc it doesn't include the bias term (c_o)"
   ]
  },
  {
   "cell_type": "code",
   "execution_count": 25,
   "metadata": {},
   "outputs": [
    {
     "name": "stdout",
     "output_type": "stream",
     "text": [
      "[4.74913107]\n"
     ]
    }
   ],
   "source": [
    "X_train_new, X_test_new = add_vector(X_train), add_vector(X_test)\n",
    "c_new = get_cn(X_train_new,y_train)\n",
    "y_pred_new = result(X_test_new,c_new)\n",
    "print(error(y_pred_new,y_test))\n",
    "##Results in a much better prediction"
   ]
  },
  {
   "cell_type": "code",
   "execution_count": 26,
   "metadata": {},
   "outputs": [],
   "source": [
    "##Compare to libary usage, scikit learn \n",
    "from sklearn.linear_model import LinearRegression"
   ]
  },
  {
   "cell_type": "code",
   "execution_count": 27,
   "metadata": {},
   "outputs": [
    {
     "name": "stdout",
     "output_type": "stream",
     "text": [
      "[4.74913107]\n"
     ]
    }
   ],
   "source": [
    "model = LinearRegression()\n",
    "model.fit(X_train,y_train) ##note we don't need to add the bias term\n",
    "##Can return all coeff with \n",
    "##c_sk = model.coef_ (All the coeff c_1...c_n)\n",
    "##c_0_sk = model.intercept_ (c_0 term)\n",
    "y_pred_sk = model.predict(X_test)\n",
    "print(error(y_pred_sk,y_test))"
   ]
  }
 ],
 "metadata": {
  "kernelspec": {
   "display_name": "Python 3",
   "language": "python",
   "name": "python3"
  },
  "language_info": {
   "codemirror_mode": {
    "name": "ipython",
    "version": 3
   },
   "file_extension": ".py",
   "mimetype": "text/x-python",
   "name": "python",
   "nbconvert_exporter": "python",
   "pygments_lexer": "ipython3",
   "version": "3.7.1"
  }
 },
 "nbformat": 4,
 "nbformat_minor": 2
}

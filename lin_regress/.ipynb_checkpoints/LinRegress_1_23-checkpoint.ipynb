{
 "cells": [
  {
   "cell_type": "code",
   "execution_count": 2,
   "metadata": {},
   "outputs": [],
   "source": [
    "import numpy as np\n",
    "import pandas as pd"
   ]
  },
  {
   "cell_type": "code",
   "execution_count": 9,
   "metadata": {},
   "outputs": [],
   "source": [
    "##import data\n",
    "##All info about these can be found in the txt file in the data folder\n",
    "data_feat_train = pd.read_csv(\"./data/airfoil_self_noise_X_train.csv\")\n",
    "data_feat_test = pd.read_csv(\"./data/airfoil_self_noise_X_test.csv\")\n",
    "data_label_train = pd.read_csv(\"./data/airfoil_self_noise_y_train.csv\")\n",
    "data_label_test = pd.read_csv(\"./data/airfoil_self_noise_y_test.csv\")"
   ]
  },
  {
   "cell_type": "code",
   "execution_count": 12,
   "metadata": {},
   "outputs": [],
   "source": [
    "##Processing the df and transforming it to something useable (returns np array)\n",
    "X_train, y_train = data_feat_train.values, data_label_train.values\n",
    "X_test, y_test = data_feat_test.values, data_label_test.values"
   ]
  },
  {
   "cell_type": "code",
   "execution_count": 24,
   "metadata": {},
   "outputs": [],
   "source": [
    "##Actual Model \n",
    "def result(X_test,c): \n",
    "    '''Returns the predicted value based off the set given and known coeffs\n",
    "    c is the coeffients of the linear regressor \n",
    "    X is the features, an array of size n\n",
    "    p(X) = <X,c>'''\n",
    "    return X.dot(c)\n",
    "\n",
    "def get_cn(X_train, y_train): \n",
    "    '''Defines coeff with the training set\n",
    "    X_train = set of feature vectors \n",
    "    y_train = set of label vectors \n",
    "     \n",
    "    c_n = (x^t*x)^-1 * x^t*y'''\n",
    "    \n",
    "    X_T = np.transpose(X_train)\n",
    "    X_TX_inv = np.linalg.inv(X_T.dot(X_train))\n",
    "    X_TY = X_T.dot(y_train)\n",
    "    \n",
    "    return X_TX_inv.dot(X_TY)\n",
    "\n",
    "def error(y_pred, y_true): \n",
    "    '''Mean root square error calculation \n",
    "    '''\n",
    "    error = 0\n",
    "    for i in range(y_pred):\n",
    "        error += (y_pred[i]-y_true[i])**2\n",
    "    return np.sqrt(error/range(y_pred))\n",
    "\n",
    "def add_vector(X):\n",
    "    '''adds column to current features'''\n",
    "    \n",
    "    return X_new"
   ]
  },
  {
   "cell_type": "code",
   "execution_count": 22,
   "metadata": {},
   "outputs": [],
   "source": [
    "c = get_cn(X_train,y_train)"
   ]
  }
 ],
 "metadata": {
  "kernelspec": {
   "display_name": "Python 3",
   "language": "python",
   "name": "python3"
  },
  "language_info": {
   "codemirror_mode": {
    "name": "ipython",
    "version": 3
   },
   "file_extension": ".py",
   "mimetype": "text/x-python",
   "name": "python",
   "nbconvert_exporter": "python",
   "pygments_lexer": "ipython3",
   "version": "3.6.4"
  }
 },
 "nbformat": 4,
 "nbformat_minor": 2
}

{
 "cells": [
  {
   "cell_type": "code",
   "execution_count": 3,
   "metadata": {},
   "outputs": [],
   "source": [
    "import numpy as np \n",
    "import pandas as pd \n",
    "import matplotlib.pyplot as plt\n",
    "\n",
    "from collections import Counter"
   ]
  },
  {
   "cell_type": "code",
   "execution_count": 4,
   "metadata": {},
   "outputs": [],
   "source": [
    "def read_in(feat,label): \n",
    "    ##Simple read function\n",
    "    df_x = pd.read_csv(feat)\n",
    "    x = df_x.values\n",
    "    \n",
    "    df_y = pd.read_csv(label)\n",
    "    y = df_y.values\n",
    "    return x,y"
   ]
  },
  {
   "cell_type": "code",
   "execution_count": 5,
   "metadata": {},
   "outputs": [],
   "source": [
    "pwd = './data/HW2_data/HW2_data/'\n",
    "x_test, y_test = read_in(pwd+\"X_iris_test.csv\",pwd+\"y_iris_test.csv\")\n",
    "x_train, y_train = read_in(pwd+\"X_iris_train.csv\",pwd+\"y_iris_train.csv\")"
   ]
  },
  {
   "cell_type": "code",
   "execution_count": 6,
   "metadata": {},
   "outputs": [],
   "source": [
    "def mean_var(x): \n",
    "    '''Returns mean and variance of a set x'''\n",
    "    ##Calculate avg, use axis=0 to take it along the values, not the features\n",
    "    mu = np.mean(x,axis=0)\n",
    "    std = np.mean((x - mu)*(x - mu), axis=0)\n",
    "    return mu,std\n",
    "\n",
    "def normalize(train,test): \n",
    "    '''Function calling both testing and training sets, \n",
    "    must be normalized by the mean and variance\n",
    "    Normalize such that X = (X - mean)/sqrt(Var)'''\n",
    "    ##Call the mean_var function\n",
    "    mu,std = mean_var(train)\n",
    "    ##Normalize\n",
    "    train_norm = (train - mu)/(np.sqrt(std) +1e-15) ## 1e-15 added to avoid divide by 0 error\n",
    "    test_norm = (test - mu)/(np.sqrt(std) +1e-15)\n",
    "    return train_norm,test_norm"
   ]
  },
  {
   "cell_type": "code",
   "execution_count": 7,
   "metadata": {},
   "outputs": [],
   "source": [
    "x_train_norm,x_test_norm = normalize(x_train,x_test)"
   ]
  },
  {
   "cell_type": "markdown",
   "metadata": {},
   "source": [
    "#### Programming a k nearest nieghbor model "
   ]
  },
  {
   "cell_type": "code",
   "execution_count": 8,
   "metadata": {},
   "outputs": [],
   "source": [
    "def KNN(x,p,k): \n",
    "    '''x->full set to calucate distance to \n",
    "    p->point to calculate distance from \n",
    "    k->number of nearest neighbors \n",
    "    \n",
    "    K ponts with the shortest distance between them and the point p\n",
    "    \n",
    "    Uses eucludian distance to calculate distance between the set and a new point\n",
    "    Returns the K \n",
    "    For-Loop not used because np will less compulationally expensive'''\n",
    "    diff = (x-p)**2 ##This shouldn't work in lin alg, but it's fine in numpy\n",
    "    dist = np.sqrt(np.sum(diff, axis = 1))\n",
    "     \n",
    "    ##Pick out the k nearest points \n",
    "    return np.argpartition(dist,k)[:k]\n",
    "\n",
    "def pre_labels(x,y,p,k): \n",
    "    '''x: points, y:labels\n",
    "    p: point to predict\n",
    "    k: # of nearest neighbors you're predicting off \n",
    "    \n",
    "    Returns label of point\n",
    "    '''\n",
    "    ##Get knn for a point \n",
    "    k_nn = KNN(x,p,k)\n",
    "    ##Get labels for the k_nn \n",
    "    labels_k_nn = y[k_nn].ravel() ##array flattned with ravel\n",
    "    \n",
    "    return Counter(labels_k_nn).most_common(1)[0][0]\n",
    "\n",
    "\n",
    "def pre_labels_array(x,y,test,k):\n",
    "    '''Return labels for a full array'''\n",
    "    labels = []\n",
    "    for p in test: \n",
    "        labels.append(pre_labels(x,y,p,k))\n",
    "    return np.array(labels)"
   ]
  },
  {
   "cell_type": "code",
   "execution_count": 9,
   "metadata": {},
   "outputs": [],
   "source": [
    "labels = pre_labels_array(x_train_norm,y_train,x_test_norm, 5)"
   ]
  },
  {
   "cell_type": "code",
   "execution_count": 10,
   "metadata": {},
   "outputs": [
    {
     "data": {
      "text/plain": [
       "<matplotlib.collections.PathCollection at 0x2a1fb60a7b8>"
      ]
     },
     "execution_count": 10,
     "metadata": {},
     "output_type": "execute_result"
    },
    {
     "data": {
      "image/png": "[encoded data removed]",
      "text/plain": [
       "<Figure size 432x288 with 1 Axes>"
      ]
     },
     "metadata": {
      "needs_background": "light"
     },
     "output_type": "display_data"
    }
   ],
   "source": [
    "plt.scatter(x_test[:,0],x_test[:,2], cmap = 'viridis')"
   ]
  },
  {
   "cell_type": "code",
   "execution_count": 11,
   "metadata": {},
   "outputs": [
    {
     "data": {
      "text/plain": [
       "<matplotlib.collections.PathCollection at 0x2a1fe12f5c0>"
      ]
     },
     "execution_count": 11,
     "metadata": {},
     "output_type": "execute_result"
    },
    {
     "data": {
      "image/png": "[encoded data removed]",
      "text/plain": [
       "<Figure size 432x288 with 1 Axes>"
      ]
     },
     "metadata": {
      "needs_background": "light"
     },
     "output_type": "display_data"
    }
   ],
   "source": [
    "plt.scatter(x_test[:,0],x_test[:,2], c=labels, cmap = 'viridis')"
   ]
  },
  {
   "cell_type": "markdown",
   "metadata": {},
   "source": [
    "#### Evaulating it with micro and macro AUC "
   ]
  },
  {
   "cell_type": "code",
   "execution_count": 17,
   "metadata": {},
   "outputs": [],
   "source": [
    "def one_hot_encoder(y_train, y_test):\n",
    "    ''' convert label to a vector under one-hot-code fashion '''\n",
    "    from sklearn import preprocessing\n",
    "    lb = preprocessing.LabelBinarizer()\n",
    "    lb.fit(y_train)\n",
    "    y_train_ohe = lb.transform(y_train)\n",
    "    y_test_ohe = lb.transform(y_test)\n",
    "    return y_train_ohe, y_test_ohe\n",
    "\n",
    "def get_predictor_scores(X_train, y_train, X_test, k):\n",
    "    '''\n",
    "        y_train: one_hot_encoder format\n",
    "    '''\n",
    "    n_test_samples = X_test.shape[0]\n",
    "    y_pred = []\n",
    "    n_classes= y_train.shape[1]\n",
    "    probability_matrix = np.zeros((n_test_samples, n_classes))\n",
    "    for i in range(n_test_samples):\n",
    "        test_point = X_test[i]\n",
    "        k_NN_indices = KNN(X_train, test_point, k)\n",
    "        k_NN_labels = y_train[k_NN_indices]\n",
    "        for class_id in range(n_classes):\n",
    "            ohe_labels = k_NN_labels[:, class_id]\n",
    "            num_zeros = (ohe_labels == 0).sum()\n",
    "            num_ones =  (ohe_labels == 1).sum()\n",
    "            probability_matrix[i, class_id] = num_ones/(num_zeros + num_ones)\n",
    "    return probability_matrix\n",
    "\n",
    "def predict_binary_label(score, threshold):\n",
    "    label = np.copy(score)\n",
    "    label[label >= threshold] = 1\n",
    "    label[label < threshold] = 0\n",
    "    return label\n",
    "\n",
    "def conf_matrix(predictor_score, true_labels):\n",
    "    '''\n",
    "        true_lables: binary labels (0 and 1)\n",
    "    '''\n",
    "    # step1 change threshold from 1 to 0\n",
    "    # step2 get predicted labels\n",
    "    # step3 compare pred ones to true ones -> TN, TF, FN, FP\n",
    "    TNR_list = []\n",
    "    TPR_list = []\n",
    "    FNR_list = []\n",
    "    FPR_list = []\n",
    "    for i in range(100, -1, -1):\n",
    "        threshold = i/100;\n",
    "        pred_labels = predict_binary_label(predictor_score, threshold)\n",
    "        # compare between pred_labels and true_labels\n",
    "        #use np.logical_and to calculate\n",
    "        TN = np.sum(np.logical_and(pred_labels == 0, true_labels == 0)) \n",
    "        FP = np.sum(np.logical_and(pred_labels == 1, true_labels == 0)) \n",
    "        FN = np.sum(np.logical_and(pred_labels == 0, true_labels == 1)) \n",
    "        TP = np.sum(np.logical_and(pred_labels == 1, true_labels == 1)) \n",
    "        TNR = TN/(TN+FP)\n",
    "        FPR = FP/(TN+FP)\n",
    "        FNR = FN/(FN+TP)\n",
    "        TPR = TP/(FN+TP)\n",
    "        TNR_list.append(TNR)\n",
    "        FPR_list.append(FPR)\n",
    "        FNR_list.append(FNR)\n",
    "        TPR_list.append(TPR)\n",
    "    return TNR_list, FPR_list, FNR_list, TPR_list\n",
    "\n",
    "def ROC_curve(FPR_list, TPR_list):\n",
    "    '''\n",
    "        convert the rates to the staircase effect\n",
    "    '''\n",
    "    FPR_ROC = []\n",
    "    TPR_ROC = []\n",
    "    for i in range(len(FPR_list)-1):\n",
    "        FPR_ROC.append(FPR_list[i])\n",
    "        TPR_ROC.append(TPR_list[i])\n",
    "        FPR_ROC.append(FPR_list[i+1])\n",
    "        TPR_ROC.append(TPR_list[i])\n",
    "    ## toFIX: add the two last points\n",
    "    FPR_ROC.append(FPR_list[-1])\n",
    "    TPR_ROC.append(TPR_list[-2])\n",
    "    FPR_ROC.append(FPR_list[-1])\n",
    "    TPR_ROC.append(TPR_list[-1])\n",
    "    return FPR_ROC, TPR_ROC # get staircase\n",
    "\n",
    "def ROC_plot(FPR_list, TPR_list):\n",
    "    plt.plot(FPR_list, TPR_list, color='g', lw=2) # roc curve\n",
    "    plt.plot([0, 1], [0, 1], color='navy', lw=2, linestyle='--') # diagonal line\n",
    "    plt.xlim([0, 1.01]) # set the limits of x-axis\n",
    "    plt.ylim([0, 1.01]) # set the limiets of y-axis\n",
    "    plt.xlabel('False Positive Rate')\n",
    "    plt.ylabel('True Positive Rate')    \n",
    "#     plt.legend(loc=\"lower right\")\n",
    "    plt.show()\n",
    "\n",
    "\n",
    "def AUC(fpr_roc, tpr_roc):\n",
    "    a = 0 \n",
    "    for i in range(len(fpr_roc)-1):\n",
    "        a += tpr_roc[i]*(fpr_roc[i+1]-fpr_roc[i])\n",
    "    return a"
   ]
  },
  {
   "cell_type": "code",
   "execution_count": 23,
   "metadata": {},
   "outputs": [
    {
     "data": {
      "image/png": "[encoded data removed]",
      "text/plain": [
       "<Figure size 432x288 with 1 Axes>"
      ]
     },
     "metadata": {
      "needs_background": "light"
     },
     "output_type": "display_data"
    },
    {
     "name": "stdout",
     "output_type": "stream",
     "text": [
      "0.9224376731301939\n"
     ]
    }
   ],
   "source": [
    "y_train_ohe, y_test_ohe = one_hot_encoder(y_train, y_test)\n",
    "probability_matrix = get_predictor_scores(x_train_norm, y_train_ohe, x_test_norm, 3) \n",
    "\n",
    "tnr, fpr, fnr, tpr = conf_matrix(probability_matrix, y_test_ohe)\n",
    "\n",
    "fpr_s,tpr_s = ROC_curve(fpr,tpr)\n",
    "auc = AUC(fpr_s,tpr_s)\n",
    "ROC_plot(fpr_s,tpr_s)\n",
    "print(auc)"
   ]
  },
  {
   "cell_type": "code",
   "execution_count": 28,
   "metadata": {},
   "outputs": [],
   "source": [
    "def macro_auc(x_train_norm,y_train_ohe,x_test_norm,y_test_ohe): \n",
    "    \"Averages the score across all the possible \"\n",
    "    fpr_l, tpr_l = [],[]\n",
    "    \n",
    "    for i in range(len(y_test_ohe[0])-1):\n",
    "        probability_matrix = get_predictor_scores(x_train_norm, y_train_ohe, x_test_norm, i) \n",
    "        tnr, fpr, fnr, tpr = conf_matrix(probability_matrix, y_test_ohe)\n",
    "        tpr_l.append(tpr)\n",
    "        fpr_l.append(fpr)\n",
    "        \n",
    "\n",
    "    fpr_a = fpr_l[0]\n",
    "    tpr_a = tpr_l[0]\n",
    "    for i in range(len(tpr_l)-1):\n",
    "        fpr_a = np.mean( np.array([fpr_a,fpr_l[i+1]]),axis=0)\n",
    "        tpr_a = np.mean(np.array([tpr_a,tpr_l[i+1]]),axis=0)\n",
    "    \n",
    "    fpr_s,tpr_s = ROC_curve(fpr_a,tpr_a)\n",
    "    return AUC(fpr_s,tpr_s)"
   ]
  },
  {
   "cell_type": "code",
   "execution_count": 29,
   "metadata": {},
   "outputs": [
    {
     "name": "stdout",
     "output_type": "stream",
     "text": [
      "nan\n"
     ]
    },
    {
     "name": "stderr",
     "output_type": "stream",
     "text": [
      "C:\\Users\\offic\\AppData\\Local\\Continuum\\anaconda3\\lib\\site-packages\\ipykernel_launcher.py:26: RuntimeWarning: invalid value encountered in long_scalars\n",
      "C:\\Users\\offic\\AppData\\Local\\Continuum\\anaconda3\\lib\\site-packages\\ipykernel_launcher.py:31: RuntimeWarning: invalid value encountered in greater_equal\n",
      "C:\\Users\\offic\\AppData\\Local\\Continuum\\anaconda3\\lib\\site-packages\\ipykernel_launcher.py:32: RuntimeWarning: invalid value encountered in less\n",
      "C:\\Users\\offic\\AppData\\Local\\Continuum\\anaconda3\\lib\\site-packages\\ipykernel_launcher.py:55: RuntimeWarning: invalid value encountered in long_scalars\n",
      "C:\\Users\\offic\\AppData\\Local\\Continuum\\anaconda3\\lib\\site-packages\\ipykernel_launcher.py:56: RuntimeWarning: invalid value encountered in long_scalars\n",
      "C:\\Users\\offic\\AppData\\Local\\Continuum\\anaconda3\\lib\\site-packages\\ipykernel_launcher.py:57: RuntimeWarning: invalid value encountered in long_scalars\n",
      "C:\\Users\\offic\\AppData\\Local\\Continuum\\anaconda3\\lib\\site-packages\\ipykernel_launcher.py:58: RuntimeWarning: invalid value encountered in long_scalars\n"
     ]
    }
   ],
   "source": [
    "print(macro_auc(x_train_norm,y_train_ohe,x_test_norm,y_test_ohe))"
   ]
  },
  {
   "cell_type": "code",
   "execution_count": null,
   "metadata": {},
   "outputs": [],
   "source": [
    "## So Not Techiqually right but I cannot figure out what's wrong with my knn. The process is right though I Think. \n",
    "    ## I will debug when I do this for my final project "
   ]
  }
 ],
 "metadata": {
  "kernelspec": {
   "display_name": "Python 3",
   "language": "python",
   "name": "python3"
  },
  "language_info": {
   "codemirror_mode": {
    "name": "ipython",
    "version": 3
   },
   "file_extension": ".py",
   "mimetype": "text/x-python",
   "name": "python",
   "nbconvert_exporter": "python",
   "pygments_lexer": "ipython3",
   "version": "3.7.1"
  }
 },
 "nbformat": 4,
 "nbformat_minor": 2
}

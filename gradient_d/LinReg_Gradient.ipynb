{
 "cells": [
  {
   "cell_type": "code",
   "execution_count": 12,
   "metadata": {},
   "outputs": [],
   "source": [
    "import numpy as np \n",
    "import pandas as pd\n",
    "\n",
    "import matplotlib.pyplot as plt\n",
    "%matplotlib inline"
   ]
  },
  {
   "cell_type": "code",
   "execution_count": 22,
   "metadata": {},
   "outputs": [],
   "source": [
    "def read_in(feat,label): \n",
    "    ##Simple read function\n",
    "    df_x = pd.read_csv(feat)\n",
    "    x = df_x.values\n",
    "    \n",
    "    df_y = pd.read_csv(label)\n",
    "    y = df_y.values\n",
    "    return x,y\n",
    "\n",
    "def mean_var(x): \n",
    "    '''Returns mean and variance of a set x'''\n",
    "    ##Calculate avg, use axis=0 to take it along the values, not the features\n",
    "    mu = np.mean(x,axis=0)\n",
    "    std = np.mean((x - mu)*(x - mu), axis=0)\n",
    "    return mu,std\n",
    "\n",
    "def normalize(train,test): \n",
    "    '''Function calling both testing and training sets, \n",
    "    must be normalized by the mean and variance\n",
    "    Normalize such that X = (X - mean)/sqrt(Var)'''\n",
    "    ##Call the mean_var function\n",
    "    mu,std = mean_var(train)\n",
    "    ##Normalize\n",
    "    train_norm = (train - mu)/np.sqrt(std)\n",
    "    test_norm = (test - mu)/np.sqrt(std)\n",
    "    return train_norm,test_norm\n",
    "\n",
    "def add_vector(X):\n",
    "    '''adds column to current features'''\n",
    "    X_ones = np.ones(X.shape[0])\n",
    "    X_ones = X_ones.reshape(-1,1)\n",
    "    return np.append(X_ones,X,axis=1)\n",
    "\n",
    "def gradient_desc(X,y,l_rate,ite,): \n",
    "    '''Input: \n",
    "    X-> Features (NxM)\n",
    "    y->Labels (Nx1)\n",
    "    learning rate (<<.01)\n",
    "    Iterations->Number of times to run \n",
    "    \n",
    "    Output: \n",
    "    c_n->Optimal coeffs\n",
    "    loss->loss value based off \n",
    "    '''\n",
    "    n_feat = X.shape[1] ##N value \n",
    "    c_n = np.zeros((n_feat,1)) ##initialize an empty matrix \n",
    "    loss_range = [0]*ite ##Empty matrix to document how loss changes with iteration\n",
    "    for i in range(ite): \n",
    "        ##Calculate the gradient over a range\n",
    "        grad = 2*np.matmul(X.T,(result(X,c_n)-y)) ##Need to do matrixmul to deal with shape\n",
    "        c_n -=l_rate*grad\n",
    "        loss_range[i] = loss(X,c_n,y)\n",
    "        \n",
    "    return c_n, loss_range\n",
    "\n",
    "def result(X_test,c): \n",
    "    '''Poached from linear regression notebook'''\n",
    "    return X_test.dot(c)\n",
    "\n",
    "def loss(X,c,y): \n",
    "    '''l2 norm of (result(X)-y)'''\n",
    "    norm = (result(X,c).reshape(-1,1)) - y \n",
    "    return np.sum(norm*norm)\n",
    "\n",
    "\n",
    "def plot_loss(loss,ite): \n",
    "    plt.xlabel(\"Number of Iteration\")\n",
    "    plt.ylabel(\"Loss\")\n",
    "    plt.plot(loss, range(ite))\n",
    "    plt.show()"
   ]
  },
  {
   "cell_type": "code",
   "execution_count": 4,
   "metadata": {},
   "outputs": [],
   "source": [
    "pwd = \"/Users/voetberg/repositories/ml_capstone/capstone_2019/lin_regress/data\"\n",
    "x_train,y_train = read_in(pwd+\"/airfoil_self_noise_X_train.csv\",pwd+\"/airfoil_self_noise_y_train.csv\")\n",
    "x_test,y_test = read_in(pwd+\"/airfoil_self_noise_X_test.csv\",pwd+\"/airfoil_self_noise_y_test.csv\")"
   ]
  },
  {
   "cell_type": "code",
   "execution_count": 23,
   "metadata": {},
   "outputs": [],
   "source": [
    "x_train_norm,x_test_norm = normalize(x_train,x_test)\n",
    "x_train_norm_c0,x_test_norm_c0 = add_vector(x_train_norm), add_vector(x_train_norm)"
   ]
  },
  {
   "cell_type": "code",
   "execution_count": 20,
   "metadata": {},
   "outputs": [
    {
     "data": {
      "image/png": "[encoded data removed]",
      "text/plain": [
       "<Figure size 432x288 with 1 Axes>"
      ]
     },
     "metadata": {
      "needs_background": "light"
     },
     "output_type": "display_data"
    }
   ],
   "source": [
    "iteration = 50\n",
    "l_rate = .001\n",
    "c_opt, loss = gradient_desc(x_train_norm_c0,y_train,l_rate,iteration)\n",
    "plot_loss(loss,iteration) ##Shows that our learning rate is WAY Too big"
   ]
  },
  {
   "cell_type": "code",
   "execution_count": 24,
   "metadata": {},
   "outputs": [
    {
     "data": {
      "image/png": "[encoded data removed]",
      "text/plain": [
       "<Figure size 432x288 with 1 Axes>"
      ]
     },
     "metadata": {
      "needs_background": "light"
     },
     "output_type": "display_data"
    }
   ],
   "source": [
    "l_rate = 10**(-4)\n",
    "c_opt, loss = gradient_desc(x_train_norm_c0,y_train,l_rate,iteration)\n",
    "plot_loss(loss,iteration) ##Shows our loss converages\n",
    "\n",
    "##Because of this, we have to manually optomize our hyperparameters of learning rate \n",
    "##and the number of iterations \n",
    "\n",
    "##I know we Can do a grid seearch but that's a bit extreme of this type of thing"
   ]
  }
 ],
 "metadata": {
  "kernelspec": {
   "display_name": "Python 3",
   "language": "python",
   "name": "python3"
  },
  "language_info": {
   "codemirror_mode": {
    "name": "ipython",
    "version": 3
   },
   "file_extension": ".py",
   "mimetype": "text/x-python",
   "name": "python",
   "nbconvert_exporter": "python",
   "pygments_lexer": "ipython3",
   "version": "3.7.1"
  }
 },
 "nbformat": 4,
 "nbformat_minor": 2
}

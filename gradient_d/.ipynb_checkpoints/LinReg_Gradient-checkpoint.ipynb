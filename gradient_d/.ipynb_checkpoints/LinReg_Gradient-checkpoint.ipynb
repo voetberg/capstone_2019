{
 "cells": [
  {
   "cell_type": "code",
   "execution_count": 1,
   "metadata": {},
   "outputs": [],
   "source": [
    "import numpy as np \n",
    "import pandas as pd"
   ]
  },
  {
   "cell_type": "code",
   "execution_count": 18,
   "metadata": {},
   "outputs": [],
   "source": [
    "def read_in(feat,label): \n",
    "    ##Simple read function\n",
    "    df_x = pd.read_csv(feat)\n",
    "    x = df_x.values\n",
    "    \n",
    "    df_y = pd.read_csv(label)\n",
    "    y = df_y.values\n",
    "    return x,y\n",
    "\n",
    "def mean_var(x): \n",
    "    '''Returns mean and variance'''\n",
    "    ##Calculate avg, use axis=0 to take it along the values, not the features\n",
    "    mu = np.mean(x,axis=0)\n",
    "    std = np.mean((x - mu)*(x - mu), axis=0)\n",
    "    return mu,std\n",
    "\n",
    "def normalize(train,test): \n",
    "    '''Function calling both testing and training sets, \n",
    "    must be normalized by the mean and variance\n",
    "    Normalize such that X = (X - mean)/sqrt(Var)'''\n",
    "    ##Call the mean_var function\n",
    "    mu,std = mean_var(train)\n",
    "    ##Normalize\n",
    "    train_norm = (train - mu)/np.sqrt(std)\n",
    "    test_norm = (test - mu)/np.sqrt(std)\n",
    "    return train_norm,test_norm\n",
    "\n",
    "def add_vector(X):\n",
    "    '''adds column to current features'''\n",
    "    X_ones = np.ones(X.shape[0])\n",
    "    X_ones = X_ones.reshape(-1,1)\n",
    "    return np.append(X_ones,X,axis=1)\n",
    "\n",
    "def gradient_desc(c_0,l_rate): \n",
    "    return \"\""
   ]
  },
  {
   "cell_type": "code",
   "execution_count": 3,
   "metadata": {},
   "outputs": [],
   "source": [
    "pwd = \"/Users/voetberg/repositories/ml_capstone/capstone_2019/lin_regress/data\"\n",
    "x_train,y_train = read_in(pwd+\"/airfoil_self_noise_X_train.csv\",pwd+\"/airfoil_self_noise_y_train.csv\")\n",
    "x_test,y_test = read_in(pwd+\"/airfoil_self_noise_X_test.csv\",pwd+\"/airfoil_self_noise_y_test.csv\")"
   ]
  },
  {
   "cell_type": "code",
   "execution_count": 20,
   "metadata": {},
   "outputs": [
    {
     "data": {
      "text/plain": [
       "array([[ 5.15154461e-04, -1.93740347e-01,  1.85546881e+00,\n",
       "        -7.85896716e-02, -5.16636594e+01],\n",
       "       [-2.40094659e-04, -1.35707802e-01,  1.06476114e+01,\n",
       "        -7.85896716e-02, -4.23035466e+01],\n",
       "       [-1.64569747e-04, -1.93740347e-01, -9.86738799e+00,\n",
       "        -4.56111130e-02, -5.91431343e+01],\n",
       "       ...,\n",
       "       [-1.29324788e-04,  4.99963408e-02, -9.86738799e+00,\n",
       "         8.67205718e-02, -3.32778836e+01],\n",
       "       [-1.64569747e-04, -1.93740347e-01, -1.27981022e+01,\n",
       "        -7.85896716e-02, -6.11668912e+01],\n",
       "       [-1.64569747e-04, -3.70524762e-02,  1.85546881e+00,\n",
       "        -4.56111130e-02, -3.58329234e+01]])"
      ]
     },
     "execution_count": 20,
     "metadata": {},
     "output_type": "execute_result"
    }
   ],
   "source": [
    "x_train_norm,x_test_norm = normalize(x_train,x_test)\n",
    "x_train_norm_c0,x_test_norm_c0 = add_vector(x_train_norm), add vector(x_train_norm)"
   ]
  },
  {
   "cell_type": "code",
   "execution_count": null,
   "metadata": {},
   "outputs": [],
   "source": []
  }
 ],
 "metadata": {
  "kernelspec": {
   "display_name": "Python 3",
   "language": "python",
   "name": "python3"
  },
  "language_info": {
   "codemirror_mode": {
    "name": "ipython",
    "version": 3
   },
   "file_extension": ".py",
   "mimetype": "text/x-python",
   "name": "python",
   "nbconvert_exporter": "python",
   "pygments_lexer": "ipython3",
   "version": "3.7.1"
  }
 },
 "nbformat": 4,
 "nbformat_minor": 2
}

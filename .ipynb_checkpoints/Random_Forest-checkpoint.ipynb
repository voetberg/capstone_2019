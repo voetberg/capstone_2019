{
 "cells": [
  {
   "cell_type": "code",
   "execution_count": 1,
   "metadata": {},
   "outputs": [],
   "source": [
    "import numpy as np \n",
    "import pandas as pd \n",
    "import matplotlib.pyplot as plt \n",
    "%matplotlib inline\n",
    "\n",
    "from sklearn.ensemble import RandomForestClassifier"
   ]
  },
  {
   "cell_type": "code",
   "execution_count": 2,
   "metadata": {},
   "outputs": [],
   "source": [
    "def read_in(feat,label): \n",
    "    ##Simple read function\n",
    "    df_x = pd.read_csv(feat)\n",
    "    x = df_x.values\n",
    "    \n",
    "    df_y = pd.read_csv(label)\n",
    "    y = df_y.values\n",
    "    return x,y\n",
    "\n",
    "def plot_raw_digit(feat): \n",
    "    '''Takes a feature vector and plots it as an 8x8 pixel image\n",
    "    Requires that the vector ranges from 0 to 16'''\n",
    "    plt.gray()\n",
    "    plt.matshow(feat.reshape(8,8))\n",
    "    plt.show()"
   ]
  },
  {
   "cell_type": "code",
   "execution_count": 3,
   "metadata": {},
   "outputs": [
    {
     "data": {
      "text/plain": [
       "<Figure size 432x288 with 0 Axes>"
      ]
     },
     "metadata": {},
     "output_type": "display_data"
    },
    {
     "data": {
      "image/png": "[encoded data removed]",
      "text/plain": [
       "<Figure size 288x288 with 1 Axes>"
      ]
     },
     "metadata": {
      "needs_background": "light"
     },
     "output_type": "display_data"
    }
   ],
   "source": [
    "pwd = '/Users/offic/repositories/ml_capstone/gradient_d/data/'\n",
    "x_train, y_train = read_in(pwd+'Digits_X_train.csv', pwd+'Digits_y_train.csv')\n",
    "x_test, y_test = read_in(pwd+'Digits_X_test.csv', pwd+'Digits_y_test.csv')\n",
    "## We don't need to normalize because we don't compare feature to feature in rf\n",
    "\n",
    "plot_raw_digit(x_train[0]) ##Yep we got the numbers "
   ]
  },
  {
   "cell_type": "code",
   "execution_count": 22,
   "metadata": {},
   "outputs": [
    {
     "data": {
      "text/plain": [
       "RandomForestClassifier(bootstrap=True, class_weight=None, criterion='gini',\n",
       "            max_depth=None, max_features=None, max_leaf_nodes=None,\n",
       "            min_impurity_decrease=0.0, min_impurity_split=None,\n",
       "            min_samples_leaf=1, min_samples_split=2,\n",
       "            min_weight_fraction_leaf=0.0, n_estimators=100, n_jobs=None,\n",
       "            oob_score=False, random_state=0, verbose=0, warm_start=False)"
      ]
     },
     "execution_count": 22,
     "metadata": {},
     "output_type": "execute_result"
    }
   ],
   "source": [
    "##make the random forest\n",
    "##Check the documentation for options for the classifier\n",
    "clf = RandomForestClassifier(n_estimators=100, max_features=None,random_state=0)\n",
    "clf.fit(x_train,y_train.ravel())"
   ]
  },
  {
   "cell_type": "code",
   "execution_count": 10,
   "metadata": {},
   "outputs": [],
   "source": [
    "##Now use that fit as a prediction \n",
    "y_pred = clf.predict(x_test)"
   ]
  },
  {
   "cell_type": "code",
   "execution_count": 9,
   "metadata": {},
   "outputs": [],
   "source": [
    "def acc(y_pred,y_true): \n",
    "    y_true = y_true.ravel()\n",
    "    p = np.array(y_pred == y_true, dtype = int)\n",
    "    return np.sum(p)/float(len(y_true))"
   ]
  },
  {
   "cell_type": "code",
   "execution_count": 26,
   "metadata": {},
   "outputs": [
    {
     "name": "stdout",
     "output_type": "stream",
     "text": [
      "0.9555555555555556\n"
     ]
    }
   ],
   "source": [
    "print(acc(y_pred,y_test))"
   ]
  },
  {
   "cell_type": "code",
   "execution_count": 4,
   "metadata": {},
   "outputs": [
    {
     "name": "stdout",
     "output_type": "stream",
     "text": [
      "Estimators= 100 OOB_Score= 0.9465478841870824\n",
      "Estimators= 200 OOB_Score= 0.949517446176689\n",
      "Estimators= 300 OOB_Score= 0.947290274684484\n"
     ]
    }
   ],
   "source": [
    "## Optimise \n",
    "    ## using a k-fold cross validation\n",
    "    ## Consider using OOB error as a maximizer \n",
    "    \n",
    "targ_est = [100,200,300]\n",
    "for n in targ_est: \n",
    "    classifier = RandomForestClassifier(n_estimators=n, max_features=None,oob_score=True,random_state=0)\n",
    "    classifier.fit(x_train,y_train.ravel())\n",
    "    print('Estimators=',n,'OOB_Score=',classifier.oob_score_)"
   ]
  },
  {
   "cell_type": "code",
   "execution_count": 7,
   "metadata": {},
   "outputs": [
    {
     "name": "stdout",
     "output_type": "stream",
     "text": [
      "Max Features = auto OOB_Score = 0.977728285077951\n",
      "Max Features = sqrt OOB_Score = 0.977728285077951\n",
      "Max Features = log2 OOB_Score = 0.9710467706013363\n"
     ]
    }
   ],
   "source": [
    "## Now for the best n features \n",
    "max_feat = ['auto','sqrt','log2']\n",
    "for m in max_feat: \n",
    "    classifier = RandomForestClassifier(n_estimators=200, max_features=m,oob_score=True,random_state=0)\n",
    "    classifier.fit(x_train,y_train.ravel())\n",
    "    print('Max Features =',m,'OOB_Score =',classifier.oob_score_)"
   ]
  },
  {
   "cell_type": "code",
   "execution_count": 10,
   "metadata": {},
   "outputs": [
    {
     "name": "stdout",
     "output_type": "stream",
     "text": [
      "0.9777777777777777\n"
     ]
    }
   ],
   "source": [
    "## Retrain with opt parameters \n",
    "clf = RandomForestClassifier(n_estimators=200, max_features='sqrt',random_state=0)\n",
    "clf.fit(x_train,y_train.ravel())\n",
    "y_pred = clf.predict(x_test)\n",
    "\n",
    "print(acc(y_pred,y_test))"
   ]
  },
  {
   "cell_type": "code",
   "execution_count": null,
   "metadata": {},
   "outputs": [],
   "source": []
  }
 ],
 "metadata": {
  "kernelspec": {
   "display_name": "Python 3",
   "language": "python",
   "name": "python3"
  },
  "language_info": {
   "codemirror_mode": {
    "name": "ipython",
    "version": 3
   },
   "file_extension": ".py",
   "mimetype": "text/x-python",
   "name": "python",
   "nbconvert_exporter": "python",
   "pygments_lexer": "ipython3",
   "version": "3.7.1"
  }
 },
 "nbformat": 4,
 "nbformat_minor": 2
}
